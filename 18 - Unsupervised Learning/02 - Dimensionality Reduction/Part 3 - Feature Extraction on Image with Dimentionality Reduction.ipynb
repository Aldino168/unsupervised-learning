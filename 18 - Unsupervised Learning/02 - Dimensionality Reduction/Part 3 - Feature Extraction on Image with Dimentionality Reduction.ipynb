{
 "cells": [
  {
   "cell_type": "markdown",
   "id": "7321aa7a",
   "metadata": {},
   "source": [
    "mengekstraksi feature image agar lebih bermakna, seperti feature apa aja yang mewakili semua data image kita ex: dahi, hidung, pipi, pencahayaan dll. sama seperti di deep learning, walaupun tidak sebagus deep learning"
   ]
  },
  {
   "cell_type": "code",
   "execution_count": 1,
   "id": "c05c05d6",
   "metadata": {
    "scrolled": true
   },
   "outputs": [],
   "source": [
    "import pandas as pd\n",
    "import numpy as np\n",
    "import matplotlib.pyplot as plt\n",
    "from sklearn.model_selection import train_test_split"
   ]
  },
  {
   "cell_type": "code",
   "execution_count": 2,
   "id": "865758d2",
   "metadata": {},
   "outputs": [],
   "source": [
    "pd.options.display.max_columns=100"
   ]
  },
  {
   "cell_type": "code",
   "execution_count": 3,
   "id": "a7a257ea",
   "metadata": {},
   "outputs": [
    {
     "data": {
      "text/html": [
       "<div>\n",
       "<style scoped>\n",
       "    .dataframe tbody tr th:only-of-type {\n",
       "        vertical-align: middle;\n",
       "    }\n",
       "\n",
       "    .dataframe tbody tr th {\n",
       "        vertical-align: top;\n",
       "    }\n",
       "\n",
       "    .dataframe thead th {\n",
       "        text-align: right;\n",
       "    }\n",
       "</style>\n",
       "<table border=\"1\" class=\"dataframe\">\n",
       "  <thead>\n",
       "    <tr style=\"text-align: right;\">\n",
       "      <th></th>\n",
       "      <th>pixel_1-1</th>\n",
       "      <th>pixel_1-2</th>\n",
       "      <th>pixel_1-3</th>\n",
       "      <th>pixel_1-4</th>\n",
       "      <th>pixel_1-5</th>\n",
       "      <th>pixel_1-6</th>\n",
       "      <th>pixel_1-7</th>\n",
       "      <th>pixel_1-8</th>\n",
       "      <th>pixel_1-9</th>\n",
       "      <th>pixel_1-10</th>\n",
       "      <th>pixel_1-11</th>\n",
       "      <th>pixel_1-12</th>\n",
       "      <th>pixel_1-13</th>\n",
       "      <th>pixel_1-14</th>\n",
       "      <th>pixel_1-15</th>\n",
       "      <th>pixel_1-16</th>\n",
       "      <th>pixel_1-17</th>\n",
       "      <th>pixel_1-18</th>\n",
       "      <th>pixel_1-19</th>\n",
       "      <th>pixel_1-20</th>\n",
       "      <th>pixel_1-21</th>\n",
       "      <th>pixel_1-22</th>\n",
       "      <th>pixel_1-23</th>\n",
       "      <th>pixel_1-24</th>\n",
       "      <th>pixel_1-25</th>\n",
       "      <th>pixel_1-26</th>\n",
       "      <th>pixel_1-27</th>\n",
       "      <th>pixel_1-28</th>\n",
       "      <th>pixel_1-29</th>\n",
       "      <th>pixel_1-30</th>\n",
       "      <th>pixel_1-31</th>\n",
       "      <th>pixel_1-32</th>\n",
       "      <th>pixel_1-33</th>\n",
       "      <th>pixel_1-34</th>\n",
       "      <th>pixel_1-35</th>\n",
       "      <th>pixel_1-36</th>\n",
       "      <th>pixel_1-37</th>\n",
       "      <th>pixel_1-38</th>\n",
       "      <th>pixel_1-39</th>\n",
       "      <th>pixel_1-40</th>\n",
       "      <th>pixel_1-41</th>\n",
       "      <th>pixel_1-42</th>\n",
       "      <th>pixel_1-43</th>\n",
       "      <th>pixel_1-44</th>\n",
       "      <th>pixel_1-45</th>\n",
       "      <th>pixel_1-46</th>\n",
       "      <th>pixel_1-47</th>\n",
       "      <th>pixel_1-48</th>\n",
       "      <th>pixel_1-49</th>\n",
       "      <th>pixel_1-50</th>\n",
       "      <th>...</th>\n",
       "      <th>pixel_87-17</th>\n",
       "      <th>pixel_87-18</th>\n",
       "      <th>pixel_87-19</th>\n",
       "      <th>pixel_87-20</th>\n",
       "      <th>pixel_87-21</th>\n",
       "      <th>pixel_87-22</th>\n",
       "      <th>pixel_87-23</th>\n",
       "      <th>pixel_87-24</th>\n",
       "      <th>pixel_87-25</th>\n",
       "      <th>pixel_87-26</th>\n",
       "      <th>pixel_87-27</th>\n",
       "      <th>pixel_87-28</th>\n",
       "      <th>pixel_87-29</th>\n",
       "      <th>pixel_87-30</th>\n",
       "      <th>pixel_87-31</th>\n",
       "      <th>pixel_87-32</th>\n",
       "      <th>pixel_87-33</th>\n",
       "      <th>pixel_87-34</th>\n",
       "      <th>pixel_87-35</th>\n",
       "      <th>pixel_87-36</th>\n",
       "      <th>pixel_87-37</th>\n",
       "      <th>pixel_87-38</th>\n",
       "      <th>pixel_87-39</th>\n",
       "      <th>pixel_87-40</th>\n",
       "      <th>pixel_87-41</th>\n",
       "      <th>pixel_87-42</th>\n",
       "      <th>pixel_87-43</th>\n",
       "      <th>pixel_87-44</th>\n",
       "      <th>pixel_87-45</th>\n",
       "      <th>pixel_87-46</th>\n",
       "      <th>pixel_87-47</th>\n",
       "      <th>pixel_87-48</th>\n",
       "      <th>pixel_87-49</th>\n",
       "      <th>pixel_87-50</th>\n",
       "      <th>pixel_87-51</th>\n",
       "      <th>pixel_87-52</th>\n",
       "      <th>pixel_87-53</th>\n",
       "      <th>pixel_87-54</th>\n",
       "      <th>pixel_87-55</th>\n",
       "      <th>pixel_87-56</th>\n",
       "      <th>pixel_87-57</th>\n",
       "      <th>pixel_87-58</th>\n",
       "      <th>pixel_87-59</th>\n",
       "      <th>pixel_87-60</th>\n",
       "      <th>pixel_87-61</th>\n",
       "      <th>pixel_87-62</th>\n",
       "      <th>pixel_87-63</th>\n",
       "      <th>pixel_87-64</th>\n",
       "      <th>pixel_87-65</th>\n",
       "      <th>name</th>\n",
       "    </tr>\n",
       "  </thead>\n",
       "  <tbody>\n",
       "    <tr>\n",
       "      <th>0</th>\n",
       "      <td>57</td>\n",
       "      <td>60</td>\n",
       "      <td>78</td>\n",
       "      <td>120</td>\n",
       "      <td>156</td>\n",
       "      <td>178</td>\n",
       "      <td>195</td>\n",
       "      <td>210</td>\n",
       "      <td>221</td>\n",
       "      <td>222</td>\n",
       "      <td>218</td>\n",
       "      <td>217</td>\n",
       "      <td>216</td>\n",
       "      <td>213</td>\n",
       "      <td>209</td>\n",
       "      <td>203</td>\n",
       "      <td>200</td>\n",
       "      <td>199</td>\n",
       "      <td>196</td>\n",
       "      <td>192</td>\n",
       "      <td>190</td>\n",
       "      <td>189</td>\n",
       "      <td>187</td>\n",
       "      <td>181</td>\n",
       "      <td>176</td>\n",
       "      <td>174</td>\n",
       "      <td>172</td>\n",
       "      <td>170</td>\n",
       "      <td>172</td>\n",
       "      <td>173</td>\n",
       "      <td>173</td>\n",
       "      <td>171</td>\n",
       "      <td>169</td>\n",
       "      <td>167</td>\n",
       "      <td>166</td>\n",
       "      <td>163</td>\n",
       "      <td>163</td>\n",
       "      <td>166</td>\n",
       "      <td>171</td>\n",
       "      <td>171</td>\n",
       "      <td>171</td>\n",
       "      <td>167</td>\n",
       "      <td>161</td>\n",
       "      <td>157</td>\n",
       "      <td>149</td>\n",
       "      <td>142</td>\n",
       "      <td>135</td>\n",
       "      <td>130</td>\n",
       "      <td>126</td>\n",
       "      <td>125</td>\n",
       "      <td>...</td>\n",
       "      <td>167</td>\n",
       "      <td>173</td>\n",
       "      <td>177</td>\n",
       "      <td>170</td>\n",
       "      <td>155</td>\n",
       "      <td>141</td>\n",
       "      <td>133</td>\n",
       "      <td>123</td>\n",
       "      <td>123</td>\n",
       "      <td>122</td>\n",
       "      <td>120</td>\n",
       "      <td>117</td>\n",
       "      <td>121</td>\n",
       "      <td>120</td>\n",
       "      <td>120</td>\n",
       "      <td>112</td>\n",
       "      <td>113</td>\n",
       "      <td>108</td>\n",
       "      <td>104</td>\n",
       "      <td>97</td>\n",
       "      <td>95</td>\n",
       "      <td>95</td>\n",
       "      <td>94</td>\n",
       "      <td>91</td>\n",
       "      <td>90</td>\n",
       "      <td>90</td>\n",
       "      <td>84</td>\n",
       "      <td>87</td>\n",
       "      <td>95</td>\n",
       "      <td>98</td>\n",
       "      <td>97</td>\n",
       "      <td>95</td>\n",
       "      <td>95</td>\n",
       "      <td>100</td>\n",
       "      <td>108</td>\n",
       "      <td>110</td>\n",
       "      <td>111</td>\n",
       "      <td>110</td>\n",
       "      <td>107</td>\n",
       "      <td>84</td>\n",
       "      <td>41</td>\n",
       "      <td>17</td>\n",
       "      <td>15</td>\n",
       "      <td>20</td>\n",
       "      <td>19</td>\n",
       "      <td>18</td>\n",
       "      <td>17</td>\n",
       "      <td>16</td>\n",
       "      <td>22</td>\n",
       "      <td>Winona Ryder</td>\n",
       "    </tr>\n",
       "    <tr>\n",
       "      <th>1</th>\n",
       "      <td>66</td>\n",
       "      <td>80</td>\n",
       "      <td>88</td>\n",
       "      <td>68</td>\n",
       "      <td>63</td>\n",
       "      <td>96</td>\n",
       "      <td>115</td>\n",
       "      <td>127</td>\n",
       "      <td>139</td>\n",
       "      <td>148</td>\n",
       "      <td>155</td>\n",
       "      <td>160</td>\n",
       "      <td>164</td>\n",
       "      <td>166</td>\n",
       "      <td>169</td>\n",
       "      <td>172</td>\n",
       "      <td>177</td>\n",
       "      <td>177</td>\n",
       "      <td>178</td>\n",
       "      <td>181</td>\n",
       "      <td>184</td>\n",
       "      <td>187</td>\n",
       "      <td>187</td>\n",
       "      <td>184</td>\n",
       "      <td>185</td>\n",
       "      <td>186</td>\n",
       "      <td>183</td>\n",
       "      <td>181</td>\n",
       "      <td>180</td>\n",
       "      <td>180</td>\n",
       "      <td>179</td>\n",
       "      <td>180</td>\n",
       "      <td>180</td>\n",
       "      <td>178</td>\n",
       "      <td>176</td>\n",
       "      <td>177</td>\n",
       "      <td>175</td>\n",
       "      <td>172</td>\n",
       "      <td>172</td>\n",
       "      <td>170</td>\n",
       "      <td>169</td>\n",
       "      <td>167</td>\n",
       "      <td>164</td>\n",
       "      <td>162</td>\n",
       "      <td>160</td>\n",
       "      <td>161</td>\n",
       "      <td>161</td>\n",
       "      <td>160</td>\n",
       "      <td>158</td>\n",
       "      <td>155</td>\n",
       "      <td>...</td>\n",
       "      <td>138</td>\n",
       "      <td>129</td>\n",
       "      <td>119</td>\n",
       "      <td>111</td>\n",
       "      <td>103</td>\n",
       "      <td>95</td>\n",
       "      <td>86</td>\n",
       "      <td>80</td>\n",
       "      <td>77</td>\n",
       "      <td>76</td>\n",
       "      <td>77</td>\n",
       "      <td>76</td>\n",
       "      <td>74</td>\n",
       "      <td>71</td>\n",
       "      <td>69</td>\n",
       "      <td>68</td>\n",
       "      <td>71</td>\n",
       "      <td>74</td>\n",
       "      <td>75</td>\n",
       "      <td>75</td>\n",
       "      <td>74</td>\n",
       "      <td>75</td>\n",
       "      <td>74</td>\n",
       "      <td>70</td>\n",
       "      <td>66</td>\n",
       "      <td>63</td>\n",
       "      <td>63</td>\n",
       "      <td>67</td>\n",
       "      <td>72</td>\n",
       "      <td>73</td>\n",
       "      <td>76</td>\n",
       "      <td>78</td>\n",
       "      <td>79</td>\n",
       "      <td>89</td>\n",
       "      <td>123</td>\n",
       "      <td>178</td>\n",
       "      <td>208</td>\n",
       "      <td>207</td>\n",
       "      <td>173</td>\n",
       "      <td>83</td>\n",
       "      <td>25</td>\n",
       "      <td>18</td>\n",
       "      <td>11</td>\n",
       "      <td>8</td>\n",
       "      <td>8</td>\n",
       "      <td>8</td>\n",
       "      <td>8</td>\n",
       "      <td>8</td>\n",
       "      <td>9</td>\n",
       "      <td>Jean Chretien</td>\n",
       "    </tr>\n",
       "    <tr>\n",
       "      <th>2</th>\n",
       "      <td>18</td>\n",
       "      <td>14</td>\n",
       "      <td>15</td>\n",
       "      <td>13</td>\n",
       "      <td>14</td>\n",
       "      <td>23</td>\n",
       "      <td>55</td>\n",
       "      <td>92</td>\n",
       "      <td>125</td>\n",
       "      <td>154</td>\n",
       "      <td>178</td>\n",
       "      <td>192</td>\n",
       "      <td>204</td>\n",
       "      <td>231</td>\n",
       "      <td>242</td>\n",
       "      <td>243</td>\n",
       "      <td>234</td>\n",
       "      <td>206</td>\n",
       "      <td>177</td>\n",
       "      <td>155</td>\n",
       "      <td>153</td>\n",
       "      <td>148</td>\n",
       "      <td>140</td>\n",
       "      <td>138</td>\n",
       "      <td>144</td>\n",
       "      <td>147</td>\n",
       "      <td>146</td>\n",
       "      <td>140</td>\n",
       "      <td>132</td>\n",
       "      <td>127</td>\n",
       "      <td>120</td>\n",
       "      <td>125</td>\n",
       "      <td>127</td>\n",
       "      <td>121</td>\n",
       "      <td>129</td>\n",
       "      <td>138</td>\n",
       "      <td>138</td>\n",
       "      <td>142</td>\n",
       "      <td>142</td>\n",
       "      <td>145</td>\n",
       "      <td>145</td>\n",
       "      <td>148</td>\n",
       "      <td>152</td>\n",
       "      <td>152</td>\n",
       "      <td>150</td>\n",
       "      <td>147</td>\n",
       "      <td>141</td>\n",
       "      <td>132</td>\n",
       "      <td>122</td>\n",
       "      <td>116</td>\n",
       "      <td>...</td>\n",
       "      <td>14</td>\n",
       "      <td>11</td>\n",
       "      <td>9</td>\n",
       "      <td>7</td>\n",
       "      <td>4</td>\n",
       "      <td>11</td>\n",
       "      <td>48</td>\n",
       "      <td>92</td>\n",
       "      <td>91</td>\n",
       "      <td>59</td>\n",
       "      <td>39</td>\n",
       "      <td>35</td>\n",
       "      <td>37</td>\n",
       "      <td>36</td>\n",
       "      <td>33</td>\n",
       "      <td>32</td>\n",
       "      <td>33</td>\n",
       "      <td>35</td>\n",
       "      <td>39</td>\n",
       "      <td>43</td>\n",
       "      <td>46</td>\n",
       "      <td>47</td>\n",
       "      <td>51</td>\n",
       "      <td>54</td>\n",
       "      <td>56</td>\n",
       "      <td>61</td>\n",
       "      <td>66</td>\n",
       "      <td>75</td>\n",
       "      <td>101</td>\n",
       "      <td>120</td>\n",
       "      <td>155</td>\n",
       "      <td>197</td>\n",
       "      <td>220</td>\n",
       "      <td>242</td>\n",
       "      <td>251</td>\n",
       "      <td>252</td>\n",
       "      <td>251</td>\n",
       "      <td>250</td>\n",
       "      <td>253</td>\n",
       "      <td>253</td>\n",
       "      <td>253</td>\n",
       "      <td>251</td>\n",
       "      <td>240</td>\n",
       "      <td>172</td>\n",
       "      <td>47</td>\n",
       "      <td>20</td>\n",
       "      <td>22</td>\n",
       "      <td>22</td>\n",
       "      <td>25</td>\n",
       "      <td>Carlos Menem</td>\n",
       "    </tr>\n",
       "    <tr>\n",
       "      <th>3</th>\n",
       "      <td>76</td>\n",
       "      <td>113</td>\n",
       "      <td>172</td>\n",
       "      <td>201</td>\n",
       "      <td>199</td>\n",
       "      <td>190</td>\n",
       "      <td>177</td>\n",
       "      <td>167</td>\n",
       "      <td>167</td>\n",
       "      <td>171</td>\n",
       "      <td>170</td>\n",
       "      <td>171</td>\n",
       "      <td>171</td>\n",
       "      <td>169</td>\n",
       "      <td>171</td>\n",
       "      <td>173</td>\n",
       "      <td>173</td>\n",
       "      <td>173</td>\n",
       "      <td>177</td>\n",
       "      <td>182</td>\n",
       "      <td>186</td>\n",
       "      <td>190</td>\n",
       "      <td>194</td>\n",
       "      <td>196</td>\n",
       "      <td>196</td>\n",
       "      <td>197</td>\n",
       "      <td>198</td>\n",
       "      <td>199</td>\n",
       "      <td>197</td>\n",
       "      <td>196</td>\n",
       "      <td>196</td>\n",
       "      <td>196</td>\n",
       "      <td>197</td>\n",
       "      <td>197</td>\n",
       "      <td>196</td>\n",
       "      <td>195</td>\n",
       "      <td>194</td>\n",
       "      <td>193</td>\n",
       "      <td>192</td>\n",
       "      <td>189</td>\n",
       "      <td>189</td>\n",
       "      <td>191</td>\n",
       "      <td>190</td>\n",
       "      <td>189</td>\n",
       "      <td>184</td>\n",
       "      <td>179</td>\n",
       "      <td>175</td>\n",
       "      <td>173</td>\n",
       "      <td>170</td>\n",
       "      <td>167</td>\n",
       "      <td>...</td>\n",
       "      <td>187</td>\n",
       "      <td>191</td>\n",
       "      <td>196</td>\n",
       "      <td>203</td>\n",
       "      <td>204</td>\n",
       "      <td>206</td>\n",
       "      <td>203</td>\n",
       "      <td>195</td>\n",
       "      <td>185</td>\n",
       "      <td>185</td>\n",
       "      <td>191</td>\n",
       "      <td>201</td>\n",
       "      <td>207</td>\n",
       "      <td>205</td>\n",
       "      <td>194</td>\n",
       "      <td>170</td>\n",
       "      <td>143</td>\n",
       "      <td>123</td>\n",
       "      <td>112</td>\n",
       "      <td>103</td>\n",
       "      <td>89</td>\n",
       "      <td>70</td>\n",
       "      <td>58</td>\n",
       "      <td>50</td>\n",
       "      <td>42</td>\n",
       "      <td>38</td>\n",
       "      <td>30</td>\n",
       "      <td>22</td>\n",
       "      <td>22</td>\n",
       "      <td>23</td>\n",
       "      <td>22</td>\n",
       "      <td>20</td>\n",
       "      <td>23</td>\n",
       "      <td>26</td>\n",
       "      <td>27</td>\n",
       "      <td>31</td>\n",
       "      <td>33</td>\n",
       "      <td>26</td>\n",
       "      <td>31</td>\n",
       "      <td>52</td>\n",
       "      <td>82</td>\n",
       "      <td>115</td>\n",
       "      <td>131</td>\n",
       "      <td>137</td>\n",
       "      <td>136</td>\n",
       "      <td>138</td>\n",
       "      <td>140</td>\n",
       "      <td>143</td>\n",
       "      <td>143</td>\n",
       "      <td>Ariel Sharon</td>\n",
       "    </tr>\n",
       "    <tr>\n",
       "      <th>4</th>\n",
       "      <td>79</td>\n",
       "      <td>70</td>\n",
       "      <td>70</td>\n",
       "      <td>81</td>\n",
       "      <td>99</td>\n",
       "      <td>126</td>\n",
       "      <td>144</td>\n",
       "      <td>156</td>\n",
       "      <td>164</td>\n",
       "      <td>168</td>\n",
       "      <td>168</td>\n",
       "      <td>164</td>\n",
       "      <td>161</td>\n",
       "      <td>153</td>\n",
       "      <td>148</td>\n",
       "      <td>147</td>\n",
       "      <td>145</td>\n",
       "      <td>144</td>\n",
       "      <td>142</td>\n",
       "      <td>141</td>\n",
       "      <td>140</td>\n",
       "      <td>138</td>\n",
       "      <td>136</td>\n",
       "      <td>137</td>\n",
       "      <td>138</td>\n",
       "      <td>138</td>\n",
       "      <td>137</td>\n",
       "      <td>136</td>\n",
       "      <td>135</td>\n",
       "      <td>135</td>\n",
       "      <td>137</td>\n",
       "      <td>138</td>\n",
       "      <td>138</td>\n",
       "      <td>136</td>\n",
       "      <td>137</td>\n",
       "      <td>136</td>\n",
       "      <td>135</td>\n",
       "      <td>135</td>\n",
       "      <td>135</td>\n",
       "      <td>137</td>\n",
       "      <td>136</td>\n",
       "      <td>134</td>\n",
       "      <td>138</td>\n",
       "      <td>138</td>\n",
       "      <td>137</td>\n",
       "      <td>137</td>\n",
       "      <td>137</td>\n",
       "      <td>137</td>\n",
       "      <td>137</td>\n",
       "      <td>137</td>\n",
       "      <td>...</td>\n",
       "      <td>63</td>\n",
       "      <td>66</td>\n",
       "      <td>68</td>\n",
       "      <td>70</td>\n",
       "      <td>71</td>\n",
       "      <td>73</td>\n",
       "      <td>71</td>\n",
       "      <td>67</td>\n",
       "      <td>63</td>\n",
       "      <td>68</td>\n",
       "      <td>73</td>\n",
       "      <td>73</td>\n",
       "      <td>91</td>\n",
       "      <td>135</td>\n",
       "      <td>134</td>\n",
       "      <td>104</td>\n",
       "      <td>75</td>\n",
       "      <td>61</td>\n",
       "      <td>48</td>\n",
       "      <td>37</td>\n",
       "      <td>33</td>\n",
       "      <td>33</td>\n",
       "      <td>31</td>\n",
       "      <td>34</td>\n",
       "      <td>35</td>\n",
       "      <td>41</td>\n",
       "      <td>58</td>\n",
       "      <td>91</td>\n",
       "      <td>102</td>\n",
       "      <td>93</td>\n",
       "      <td>87</td>\n",
       "      <td>83</td>\n",
       "      <td>78</td>\n",
       "      <td>74</td>\n",
       "      <td>75</td>\n",
       "      <td>78</td>\n",
       "      <td>80</td>\n",
       "      <td>82</td>\n",
       "      <td>82</td>\n",
       "      <td>84</td>\n",
       "      <td>88</td>\n",
       "      <td>91</td>\n",
       "      <td>90</td>\n",
       "      <td>89</td>\n",
       "      <td>85</td>\n",
       "      <td>83</td>\n",
       "      <td>80</td>\n",
       "      <td>74</td>\n",
       "      <td>64</td>\n",
       "      <td>Alvaro Uribe</td>\n",
       "    </tr>\n",
       "  </tbody>\n",
       "</table>\n",
       "<p>5 rows × 5656 columns</p>\n",
       "</div>"
      ],
      "text/plain": [
       "   pixel_1-1  pixel_1-2  pixel_1-3  pixel_1-4  pixel_1-5  pixel_1-6  \\\n",
       "0         57         60         78        120        156        178   \n",
       "1         66         80         88         68         63         96   \n",
       "2         18         14         15         13         14         23   \n",
       "3         76        113        172        201        199        190   \n",
       "4         79         70         70         81         99        126   \n",
       "\n",
       "   pixel_1-7  pixel_1-8  pixel_1-9  pixel_1-10  pixel_1-11  pixel_1-12  \\\n",
       "0        195        210        221         222         218         217   \n",
       "1        115        127        139         148         155         160   \n",
       "2         55         92        125         154         178         192   \n",
       "3        177        167        167         171         170         171   \n",
       "4        144        156        164         168         168         164   \n",
       "\n",
       "   pixel_1-13  pixel_1-14  pixel_1-15  pixel_1-16  pixel_1-17  pixel_1-18  \\\n",
       "0         216         213         209         203         200         199   \n",
       "1         164         166         169         172         177         177   \n",
       "2         204         231         242         243         234         206   \n",
       "3         171         169         171         173         173         173   \n",
       "4         161         153         148         147         145         144   \n",
       "\n",
       "   pixel_1-19  pixel_1-20  pixel_1-21  pixel_1-22  pixel_1-23  pixel_1-24  \\\n",
       "0         196         192         190         189         187         181   \n",
       "1         178         181         184         187         187         184   \n",
       "2         177         155         153         148         140         138   \n",
       "3         177         182         186         190         194         196   \n",
       "4         142         141         140         138         136         137   \n",
       "\n",
       "   pixel_1-25  pixel_1-26  pixel_1-27  pixel_1-28  pixel_1-29  pixel_1-30  \\\n",
       "0         176         174         172         170         172         173   \n",
       "1         185         186         183         181         180         180   \n",
       "2         144         147         146         140         132         127   \n",
       "3         196         197         198         199         197         196   \n",
       "4         138         138         137         136         135         135   \n",
       "\n",
       "   pixel_1-31  pixel_1-32  pixel_1-33  pixel_1-34  pixel_1-35  pixel_1-36  \\\n",
       "0         173         171         169         167         166         163   \n",
       "1         179         180         180         178         176         177   \n",
       "2         120         125         127         121         129         138   \n",
       "3         196         196         197         197         196         195   \n",
       "4         137         138         138         136         137         136   \n",
       "\n",
       "   pixel_1-37  pixel_1-38  pixel_1-39  pixel_1-40  pixel_1-41  pixel_1-42  \\\n",
       "0         163         166         171         171         171         167   \n",
       "1         175         172         172         170         169         167   \n",
       "2         138         142         142         145         145         148   \n",
       "3         194         193         192         189         189         191   \n",
       "4         135         135         135         137         136         134   \n",
       "\n",
       "   pixel_1-43  pixel_1-44  pixel_1-45  pixel_1-46  pixel_1-47  pixel_1-48  \\\n",
       "0         161         157         149         142         135         130   \n",
       "1         164         162         160         161         161         160   \n",
       "2         152         152         150         147         141         132   \n",
       "3         190         189         184         179         175         173   \n",
       "4         138         138         137         137         137         137   \n",
       "\n",
       "   pixel_1-49  pixel_1-50  ...  pixel_87-17  pixel_87-18  pixel_87-19  \\\n",
       "0         126         125  ...          167          173          177   \n",
       "1         158         155  ...          138          129          119   \n",
       "2         122         116  ...           14           11            9   \n",
       "3         170         167  ...          187          191          196   \n",
       "4         137         137  ...           63           66           68   \n",
       "\n",
       "   pixel_87-20  pixel_87-21  pixel_87-22  pixel_87-23  pixel_87-24  \\\n",
       "0          170          155          141          133          123   \n",
       "1          111          103           95           86           80   \n",
       "2            7            4           11           48           92   \n",
       "3          203          204          206          203          195   \n",
       "4           70           71           73           71           67   \n",
       "\n",
       "   pixel_87-25  pixel_87-26  pixel_87-27  pixel_87-28  pixel_87-29  \\\n",
       "0          123          122          120          117          121   \n",
       "1           77           76           77           76           74   \n",
       "2           91           59           39           35           37   \n",
       "3          185          185          191          201          207   \n",
       "4           63           68           73           73           91   \n",
       "\n",
       "   pixel_87-30  pixel_87-31  pixel_87-32  pixel_87-33  pixel_87-34  \\\n",
       "0          120          120          112          113          108   \n",
       "1           71           69           68           71           74   \n",
       "2           36           33           32           33           35   \n",
       "3          205          194          170          143          123   \n",
       "4          135          134          104           75           61   \n",
       "\n",
       "   pixel_87-35  pixel_87-36  pixel_87-37  pixel_87-38  pixel_87-39  \\\n",
       "0          104           97           95           95           94   \n",
       "1           75           75           74           75           74   \n",
       "2           39           43           46           47           51   \n",
       "3          112          103           89           70           58   \n",
       "4           48           37           33           33           31   \n",
       "\n",
       "   pixel_87-40  pixel_87-41  pixel_87-42  pixel_87-43  pixel_87-44  \\\n",
       "0           91           90           90           84           87   \n",
       "1           70           66           63           63           67   \n",
       "2           54           56           61           66           75   \n",
       "3           50           42           38           30           22   \n",
       "4           34           35           41           58           91   \n",
       "\n",
       "   pixel_87-45  pixel_87-46  pixel_87-47  pixel_87-48  pixel_87-49  \\\n",
       "0           95           98           97           95           95   \n",
       "1           72           73           76           78           79   \n",
       "2          101          120          155          197          220   \n",
       "3           22           23           22           20           23   \n",
       "4          102           93           87           83           78   \n",
       "\n",
       "   pixel_87-50  pixel_87-51  pixel_87-52  pixel_87-53  pixel_87-54  \\\n",
       "0          100          108          110          111          110   \n",
       "1           89          123          178          208          207   \n",
       "2          242          251          252          251          250   \n",
       "3           26           27           31           33           26   \n",
       "4           74           75           78           80           82   \n",
       "\n",
       "   pixel_87-55  pixel_87-56  pixel_87-57  pixel_87-58  pixel_87-59  \\\n",
       "0          107           84           41           17           15   \n",
       "1          173           83           25           18           11   \n",
       "2          253          253          253          251          240   \n",
       "3           31           52           82          115          131   \n",
       "4           82           84           88           91           90   \n",
       "\n",
       "   pixel_87-60  pixel_87-61  pixel_87-62  pixel_87-63  pixel_87-64  \\\n",
       "0           20           19           18           17           16   \n",
       "1            8            8            8            8            8   \n",
       "2          172           47           20           22           22   \n",
       "3          137          136          138          140          143   \n",
       "4           89           85           83           80           74   \n",
       "\n",
       "   pixel_87-65           name  \n",
       "0           22   Winona Ryder  \n",
       "1            9  Jean Chretien  \n",
       "2           25   Carlos Menem  \n",
       "3          143   Ariel Sharon  \n",
       "4           64   Alvaro Uribe  \n",
       "\n",
       "[5 rows x 5656 columns]"
      ]
     },
     "execution_count": 3,
     "metadata": {},
     "output_type": "execute_result"
    }
   ],
   "source": [
    "df = pd.read_csv(\"data/lfw_people.csv\")\n",
    "df.head()"
   ]
  },
  {
   "cell_type": "markdown",
   "id": "d0721945",
   "metadata": {},
   "source": [
    "data kita udah dalam bentuk flatten dengan ukuran 87x65"
   ]
  },
  {
   "cell_type": "markdown",
   "id": "73eb5da0",
   "metadata": {},
   "source": [
    "lakukan train test split bukan karena mau klasifikasi, tapi karena data kita bentuk nya kategorikal."
   ]
  },
  {
   "cell_type": "markdown",
   "id": "099f8ec3",
   "metadata": {},
   "source": [
    "# Dataset Spliting"
   ]
  },
  {
   "cell_type": "code",
   "execution_count": 4,
   "id": "061b4992",
   "metadata": {},
   "outputs": [
    {
     "data": {
      "text/plain": [
       "((2418, 5655), (605, 5655), (2418,), (605,))"
      ]
     },
     "execution_count": 4,
     "metadata": {},
     "output_type": "execute_result"
    }
   ],
   "source": [
    "X= df.drop(columns=\"name\").values\n",
    "y= df.name.values\n",
    "\n",
    "X_train, X_test, y_train, y_test = train_test_split(X, y, test_size=0.2, stratify = y,random_state=42)\n",
    "X_train.shape, X_test.shape, y_train.shape, y_test.shape"
   ]
  },
  {
   "cell_type": "markdown",
   "id": "09fd9196",
   "metadata": {},
   "source": [
    "# Visualize Data"
   ]
  },
  {
   "cell_type": "code",
   "execution_count": 5,
   "id": "1d5d494c",
   "metadata": {},
   "outputs": [
    {
     "data": {
      "image/png": "[encoded data removed]",
      "text/plain": [
       "<Figure size 432x288 with 1 Axes>"
      ]
     },
     "metadata": {
      "needs_background": "light"
     },
     "output_type": "display_data"
    }
   ],
   "source": [
    "idx = 101\n",
    "plt.imshow(X_train[idx].reshape(87,65), cmap=\"gray\")\n",
    "plt.title(y_train[idx])\n",
    "plt.axis(\"off\");"
   ]
  },
  {
   "cell_type": "markdown",
   "id": "42055340",
   "metadata": {},
   "source": [
    "kita akan melakukan dekomposisi feature yang ada di image, yang mana dari data kita sebanyak 5655 kita akan coba ekstraksi feature nya. dengan dasar bahwa ada beberapa feature yang berulang seperti kerutan pada wajah seseorang itu bisa kita hilangkan untuk mengurangi feature. tapi informasi penting nya tetap terjaga"
   ]
  },
  {
   "cell_type": "markdown",
   "id": "85f4a98e",
   "metadata": {},
   "source": [
    "# Reduce dimentionality feature kita"
   ]
  },
  {
   "cell_type": "code",
   "execution_count": 6,
   "id": "82d1a976",
   "metadata": {},
   "outputs": [],
   "source": [
    "from sklearn.decomposition import PCA, NMF\n"
   ]
  },
  {
   "cell_type": "code",
   "execution_count": 7,
   "id": "0b36bf0e",
   "metadata": {},
   "outputs": [],
   "source": [
    "pca = PCA().fit(X_train)"
   ]
  },
  {
   "cell_type": "code",
   "execution_count": 8,
   "id": "0fff7079",
   "metadata": {},
   "outputs": [
    {
     "data": {
      "text/plain": [
       "Text(0, 0.5, 'cumulative explained variance')"
      ]
     },
     "execution_count": 8,
     "metadata": {},
     "output_type": "execute_result"
    },
    {
     "data": {
      "image/png": "[encoded data removed]",
      "text/plain": [
       "<Figure size 432x288 with 1 Axes>"
      ]
     },
     "metadata": {
      "needs_background": "light"
     },
     "output_type": "display_data"
    }
   ],
   "source": [
    "plt.plot(pca.explained_variance_ratio_.cumsum())\n",
    "plt.xlabel(\"n_component\")\n",
    "plt.ylabel(\"cumulative explained variance\")"
   ]
  },
  {
   "cell_type": "markdown",
   "id": "7a0c63d3",
   "metadata": {},
   "source": [
    "coba pilih 500 feature sebagai reduce feature"
   ]
  },
  {
   "cell_type": "code",
   "execution_count": 9,
   "id": "c5298b06",
   "metadata": {},
   "outputs": [],
   "source": [
    "pca = PCA(n_components=500,whiten=True)\n",
    "X_train_pca = pca.fit_transform(X_train)\n",
    "X_test_pca = pca.transform(X_test)"
   ]
  },
  {
   "cell_type": "code",
   "execution_count": 10,
   "id": "28425a0e",
   "metadata": {},
   "outputs": [
    {
     "name": "stdout",
     "output_type": "stream",
     "text": [
      "(2418, 5655)\n",
      "(2418, 500)\n",
      "(500, 5655)\n"
     ]
    }
   ],
   "source": [
    "print(X_train.shape) # seperti hidden layer\n",
    "print(X_train_pca.shape) # weight / code\n",
    "print(pca.components_.shape) # fitur maksud nya terdapat 500 feature yang datang dari 5655 feature"
   ]
  },
  {
   "cell_type": "markdown",
   "id": "f3cef67b",
   "metadata": {},
   "source": [
    "pada image kita bisa visualisasi feature yang bermakna nya, karna image hanyalah kumpulan pixel, walaupun sudah kita reduce, tetap masih bisa kita plot feature nya. \n",
    "- beda dengan data data tabular biasa, yang kita akan susah memaknai feature hasil reduce nya"
   ]
  },
  {
   "cell_type": "markdown",
   "id": "14f0eae5",
   "metadata": {},
   "source": [
    "# coba visualisasi fitur n_component nya\n",
    "- component pertama nya adalah yang paling penting maksud nya component ini ada di semua data kita (mewakili)"
   ]
  },
  {
   "cell_type": "code",
   "execution_count": 11,
   "id": "87e90ea8",
   "metadata": {},
   "outputs": [
    {
     "data": {
      "image/png": "[encoded data removed]",
      "text/plain": [
       "<Figure size 1080x720 with 10 Axes>"
      ]
     },
     "metadata": {
      "needs_background": "light"
     },
     "output_type": "display_data"
    }
   ],
   "source": [
    "plt.figure(figsize=(15,10))\n",
    "for i in range (10):\n",
    "    plt.subplot(2, 5, i+1)\n",
    "    plt.imshow(pca.components_[i].reshape(87,65),cmap=\"gray\")\n",
    "    plt.title(f\"PCA component ke = {i+1}\")\n",
    "    plt.axis(\"off\")"
   ]
  },
  {
   "cell_type": "markdown",
   "id": "f3def655",
   "metadata": {},
   "source": [
    "kalau dianalisa bahwa feature komponen yang paling penting kita pertama adalah sisi background lalu ada pencahyaan dari kiri dan seterusnya"
   ]
  },
  {
   "cell_type": "markdown",
   "id": "3ddbe34b",
   "metadata": {},
   "source": [
    "# Reconstruct data image\n",
    "* coba kita invers data nya kembali seperti semula menggunakan 500 feature yang udah kita lakukan dimentionality reduction ini.\n",
    "- seharus nya ada beberapa informasi yang hilang, seperti kerutan pada wajah"
   ]
  },
  {
   "cell_type": "code",
   "execution_count": 12,
   "id": "abe59ebc",
   "metadata": {},
   "outputs": [],
   "source": [
    "X_train_inv = pca.inverse_transform(X_train_pca)"
   ]
  },
  {
   "cell_type": "code",
   "execution_count": 13,
   "id": "c18cae81",
   "metadata": {},
   "outputs": [
    {
     "data": {
      "text/plain": [
       "(-0.5, 64.5, 86.5, -0.5)"
      ]
     },
     "execution_count": 13,
     "metadata": {},
     "output_type": "execute_result"
    },
    {
     "data": {
      "image/png": "[encoded data removed]",
      "text/plain": [
       "<Figure size 720x360 with 2 Axes>"
      ]
     },
     "metadata": {
      "needs_background": "light"
     },
     "output_type": "display_data"
    }
   ],
   "source": [
    "idx = 2\n",
    "plt.figure(figsize=(10,5))\n",
    "\n",
    "plt.subplot(121)\n",
    "plt.imshow(X_train[idx].reshape(87,65),cmap=\"gray\")\n",
    "plt.title(y_train[idx])\n",
    "plt.axis(\"off\")\n",
    "\n",
    "plt.subplot(122)\n",
    "plt.imshow(X_train_inv[idx].reshape(87,65),cmap=\"gray\")\n",
    "plt.title(y_train[idx])\n",
    "plt.axis(\"off\")\n"
   ]
  },
  {
   "cell_type": "markdown",
   "id": "9a0adbe8",
   "metadata": {},
   "source": [
    "terlihat hasil dari sebelum di reduce dan setelah di reduce, informasi inti nya masih dipertahankan walaupun ada beberapa fitur ilang seperti kerutan agak sedikit hilang dan sedikit lebih blur. \n",
    "* tapi kita masih bisa mempertahankan informasi penting nya dan feature sudah menjadi lebih compact\n",
    "* ide nya sama dengan cnn dulu dari banyak feature baru kita masukkan ke nn, ini juga sama ide  nya, "
   ]
  },
  {
   "cell_type": "markdown",
   "id": "541d1e2a",
   "metadata": {},
   "source": [
    "# Rekonstruksi PCA = kombinasi linear dari komponen nya"
   ]
  },
  {
   "cell_type": "markdown",
   "id": "dc44abf3",
   "metadata": {},
   "source": [
    "* maksud dari 500 feature yang kita dapat tadi itu sama aja kita membuat code terhadap gambar yang ada, jadi kalau misal kita ingin verifikasi muka si A maka dengan hanya 500 code atau feature itu kita bisa mengenali muka si A dan dibalik layar kombinasi linear antara code dan feature yang ada untuk memverifikasi muka si A. \n",
    "* inti nya kita encode gambar atau data nya dari feature yang ada"
   ]
  },
  {
   "cell_type": "markdown",
   "id": "3a2f4bee",
   "metadata": {},
   "source": [
    "kita sudah punya 500 kode dari beberapa data yang telah kita pca. maka jika kita punya data baru dan mau dicocok kan dengan feature yang telah kita PCA tadi sebenarnya bisa, coba kita praktek"
   ]
  },
  {
   "cell_type": "code",
   "execution_count": 14,
   "id": "092fd855",
   "metadata": {},
   "outputs": [],
   "source": [
    "from sklearn.metrics.pairwise import cosine_similarity,cosine_distances"
   ]
  },
  {
   "cell_type": "code",
   "execution_count": 20,
   "id": "b1364df9",
   "metadata": {},
   "outputs": [],
   "source": [
    "soekarno1 = plt.imread(\"data/sample_faces/soekarno1.png\").reshape(1,-1)\n",
    "soekarno2 = plt.imread(\"data/sample_faces/soekarno2.png\").reshape(1,-1)\n",
    "hatta = plt.imread(\"data/sample_faces/hatta.png\").reshape(1,-1)"
   ]
  },
  {
   "cell_type": "code",
   "execution_count": 21,
   "id": "89f328fd",
   "metadata": {},
   "outputs": [],
   "source": [
    "s1 = pca.transform(soekarno1)\n",
    "s2 = pca.transform(soekarno2)\n",
    "h1 = pca.transform(hatta)"
   ]
  },
  {
   "cell_type": "code",
   "execution_count": 24,
   "id": "621cb60a",
   "metadata": {},
   "outputs": [
    {
     "data": {
      "text/plain": [
       "array([[0.99959696]])"
      ]
     },
     "execution_count": 24,
     "metadata": {},
     "output_type": "execute_result"
    }
   ],
   "source": [
    "cosine_similarity(s1,s2)"
   ]
  },
  {
   "cell_type": "code",
   "execution_count": 25,
   "id": "70fad659",
   "metadata": {},
   "outputs": [
    {
     "data": {
      "text/plain": [
       "array([[0.99954032]])"
      ]
     },
     "execution_count": 25,
     "metadata": {},
     "output_type": "execute_result"
    }
   ],
   "source": [
    "cosine_similarity(s1,h1)"
   ]
  },
  {
   "cell_type": "markdown",
   "id": "f7ecde3d",
   "metadata": {},
   "source": [
    "coba search kemiripan data soekarno dengan data gambar kita"
   ]
  },
  {
   "cell_type": "code",
   "execution_count": 28,
   "id": "ad0d3877",
   "metadata": {},
   "outputs": [
    {
     "data": {
      "text/plain": [
       "array([[ 0.00641976, -0.02562865,  0.02828177, ..., -0.00150383,\n",
       "         0.02667834,  0.00577162]])"
      ]
     },
     "execution_count": 28,
     "metadata": {},
     "output_type": "execute_result"
    }
   ],
   "source": [
    "cosine_similarity(s1,X_train_pca)"
   ]
  },
  {
   "cell_type": "code",
   "execution_count": 29,
   "id": "e10bb9c1",
   "metadata": {},
   "outputs": [],
   "source": [
    "similarity = cosine_similarity(s1,X_test_pca)"
   ]
  },
  {
   "cell_type": "code",
   "execution_count": 30,
   "id": "ebffb68c",
   "metadata": {
    "scrolled": true
   },
   "outputs": [
    {
     "data": {
      "text/plain": [
       "array([[450, 154, 265, 203, 177, 148, 413, 116, 418, 457, 240, 196,  69,\n",
       "        213, 315, 514, 589,  49, 340, 571, 479, 439, 524, 416, 231, 533,\n",
       "         21,  54, 415, 310,   5,  13,  88, 393, 429, 163, 138, 150,  18,\n",
       "         26, 362,  31, 338, 242, 189, 325, 217, 602, 218, 253, 179, 467,\n",
       "        311, 199,  59, 369, 304,  34,  91, 263, 254, 476, 468, 184, 389,\n",
       "        477, 206,  98,  73, 372, 585,  45, 578, 178, 584, 422, 305, 507,\n",
       "        592, 293, 284, 400, 377, 534,  44, 183, 328, 200, 480, 408, 410,\n",
       "        131, 334, 368, 271, 529,  19, 215, 252,  50, 454, 211, 378, 367,\n",
       "        401, 144, 384, 201,  89,  63, 241, 243, 530, 308, 394, 563, 281,\n",
       "        210, 357, 371, 596, 102,   7, 129, 162, 539, 537, 526, 567, 273,\n",
       "        392,   6, 330, 385, 554, 300, 506, 347, 552, 202, 176, 331,  46,\n",
       "        351, 130, 555, 492, 165, 124, 405, 140, 239, 352, 261, 488, 433,\n",
       "        579, 264, 224,  30, 374, 106, 114, 587, 441, 145, 272, 570, 544,\n",
       "        573, 421, 118, 521, 559,  81,  40, 286,  37, 365,  43, 342, 186,\n",
       "        550, 443, 582, 343,  17, 387, 519, 173, 472, 370, 380, 195, 501,\n",
       "         72,   8,  38, 493, 234, 100, 120, 509, 307, 319, 523, 255, 209,\n",
       "         93, 545, 397, 536, 247, 580, 426, 141, 149, 292, 603, 191, 500,\n",
       "        160, 373,  99, 113, 522, 424, 332, 301, 248, 320, 423, 121, 447,\n",
       "        117, 172, 346, 471, 171, 595, 484, 379,  95, 382, 366, 174, 504,\n",
       "        442, 287, 461, 197, 518, 323, 249, 448, 339, 436, 175, 491, 353,\n",
       "         70, 229, 132, 485, 257, 208, 294, 398, 295, 470, 469, 440, 322,\n",
       "        223, 502, 134, 219, 354,   3, 119, 291,  24, 277, 151,  53, 427,\n",
       "        505, 345, 227, 449, 407, 556,  78, 278, 420, 297, 466,  20, 268,\n",
       "        147, 515, 182, 282, 285, 572, 497, 452, 136, 104, 358, 591,  51,\n",
       "        350, 245, 520, 333, 115, 569, 306, 581, 478, 237, 111,  55, 188,\n",
       "        462, 256, 266, 363, 486, 494, 594, 511, 302, 548, 438, 348, 513,\n",
       "        419, 437, 542, 204,  92, 321, 314, 246, 566, 464, 125, 498, 236,\n",
       "        194,  35, 576, 156, 143, 337, 275, 318,  15, 180, 207,  68, 108,\n",
       "        146,  28, 564,  56, 425, 349, 412, 267, 414, 459, 274, 601, 158,\n",
       "        220, 590, 475, 517, 403,  11, 190, 192, 128, 560, 543, 262, 411,\n",
       "        324, 431, 230, 547, 575, 101, 289,  14, 335, 269, 109, 375, 386,\n",
       "        432, 356, 574, 531, 499,  94, 238, 226, 279, 481, 169, 446, 428,\n",
       "        568, 406, 155, 251, 381,  41, 137,  27, 549,  86, 360, 586,  58,\n",
       "        535, 508, 142, 435, 312,  32, 153,  76,  87, 361,  77, 402, 270,\n",
       "          2, 593,  16, 553,  60, 396,  29, 107, 409, 326,  36,  48, 525,\n",
       "        164, 399, 316, 313,  90, 490, 244, 181, 512, 404,  62, 122,  96,\n",
       "        327, 280, 110, 187, 159, 474, 185, 558, 561, 317, 290, 250, 473,\n",
       "        551, 444, 455, 127, 546, 453, 112, 133,   4,  65, 152, 205, 298,\n",
       "         80, 225, 123, 503, 364,  61, 451, 388, 463, 157, 482,  52, 540,\n",
       "        456, 232, 170, 532, 139,  12,   9, 417, 228,  33, 221, 383, 168,\n",
       "        303,  22, 390, 166, 391, 135,   1,  66, 222,  85,   0, 538,  67,\n",
       "        458, 198, 376, 309, 588,  97,  25, 604, 288, 167,  82, 496, 541,\n",
       "        430, 489, 355, 258, 103,  47, 214, 557, 260,  71, 105, 495,  83,\n",
       "        487, 216, 434, 359, 395, 212, 597, 583, 329, 235, 528, 460,  79,\n",
       "        299, 296, 193,  57,  42,  84, 600,  10, 562, 510,  64, 126, 516,\n",
       "         74, 598, 336, 483, 259, 445, 341,  39, 577, 276, 344, 161, 527,\n",
       "        599, 465, 233,  23, 565,  75, 283]], dtype=int64)"
      ]
     },
     "execution_count": 30,
     "metadata": {},
     "output_type": "execute_result"
    }
   ],
   "source": [
    "similarity.argsort()"
   ]
  },
  {
   "cell_type": "code",
   "execution_count": 33,
   "id": "86677fc6",
   "metadata": {},
   "outputs": [
    {
     "data": {
      "image/png": "[encoded data removed]",
      "text/plain": [
       "<Figure size 432x288 with 1 Axes>"
      ]
     },
     "metadata": {
      "needs_background": "light"
     },
     "output_type": "display_data"
    }
   ],
   "source": [
    "idx = 154\n",
    "plt.imshow(X_train[idx].reshape(87,65), cmap=\"gray\")\n",
    "plt.title(y_train[idx])\n",
    "plt.axis(\"off\");"
   ]
  },
  {
   "cell_type": "markdown",
   "id": "62b64ac8",
   "metadata": {},
   "source": [
    "ini cara gunain nya sebagai model segampang kalau mau recognition atau classification tinggal flattening, lakuin PCA abis tuh masukin deh ke SVM atau algoritma lain nya udah deh tinggal pake tuh model untuk classification image yang baru\n",
    "* tapi data yang kita jadiin data train itu harus related ya dengan apa yang ingin kita pake, gak kayak contoh ini dimana data nya muka orang luar tapi kita prediksi atau verifikasi muka orang indo"
   ]
  },
  {
   "cell_type": "code",
   "execution_count": null,
   "id": "f96e5528",
   "metadata": {},
   "outputs": [],
   "source": []
  },
  {
   "cell_type": "code",
   "execution_count": null,
   "id": "cbad259d",
   "metadata": {},
   "outputs": [],
   "source": []
  },
  {
   "cell_type": "code",
   "execution_count": null,
   "id": "5db6ab0e",
   "metadata": {},
   "outputs": [],
   "source": []
  },
  {
   "cell_type": "code",
   "execution_count": null,
   "id": "958957b8",
   "metadata": {},
   "outputs": [],
   "source": []
  },
  {
   "cell_type": "code",
   "execution_count": null,
   "id": "e79d924d",
   "metadata": {},
   "outputs": [],
   "source": []
  },
  {
   "cell_type": "code",
   "execution_count": null,
   "id": "1c3c3c9e",
   "metadata": {},
   "outputs": [],
   "source": []
  },
  {
   "cell_type": "code",
   "execution_count": null,
   "id": "10442d63",
   "metadata": {},
   "outputs": [],
   "source": []
  },
  {
   "cell_type": "code",
   "execution_count": null,
   "id": "d3e38dc1",
   "metadata": {},
   "outputs": [],
   "source": []
  },
  {
   "cell_type": "code",
   "execution_count": null,
   "id": "15a80f34",
   "metadata": {},
   "outputs": [],
   "source": []
  }
 ],
 "metadata": {
  "kernelspec": {
   "display_name": "Python [conda env:jcop]",
   "language": "python",
   "name": "conda-env-jcop-py"
  },
  "language_info": {
   "codemirror_mode": {
    "name": "ipython",
    "version": 3
   },
   "file_extension": ".py",
   "mimetype": "text/x-python",
   "name": "python",
   "nbconvert_exporter": "python",
   "pygments_lexer": "ipython3",
   "version": "3.7.6"
  }
 },
 "nbformat": 4,
 "nbformat_minor": 5
}
