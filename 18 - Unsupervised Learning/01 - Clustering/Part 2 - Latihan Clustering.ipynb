{
 "cells": [
  {
   "cell_type": "code",
   "execution_count": 1,
   "id": "98610732",
   "metadata": {},
   "outputs": [
    {
     "name": "stderr",
     "output_type": "stream",
     "text": [
      "C:\\Users\\Rahmat\\anaconda3\\envs\\jcop\\lib\\importlib\\_bootstrap.py:219: RuntimeWarning: numpy.ufunc size changed, may indicate binary incompatibility. Expected 192 from C header, got 216 from PyObject\n",
      "  return f(*args, **kwds)\n"
     ]
    }
   ],
   "source": [
    "import matplotlib.pyplot as plt\n",
    "import pandas as pd\n",
    "import numpy as np\n",
    "from sklearn.cluster import DBSCAN,KMeans,AgglomerativeClustering,SpectralClustering"
   ]
  },
  {
   "cell_type": "code",
   "execution_count": 2,
   "id": "b0c9b7ed",
   "metadata": {},
   "outputs": [],
   "source": [
    "from luwiji.cluster import demo"
   ]
  },
  {
   "cell_type": "markdown",
   "id": "db29d581",
   "metadata": {},
   "source": [
    "# Sample Data\n",
    "* coba main main dulu menggunakan data main main"
   ]
  },
  {
   "cell_type": "code",
   "execution_count": 4,
   "id": "3147d7a8",
   "metadata": {},
   "outputs": [],
   "source": [
    "X1, y1 = demo.blob_data()\n",
    "X2, y2 = demo.moon_data()\n",
    "X3, y3 = demo.circle_data()"
   ]
  },
  {
   "cell_type": "code",
   "execution_count": 5,
   "id": "badb0a4d",
   "metadata": {
    "collapsed": true
   },
   "outputs": [
    {
     "data": {
      "text/plain": [
       "array([[ -9.47854243,   8.20092001],\n",
       "       [ -3.81907018,   9.42523738],\n",
       "       [ -8.96119929,   7.18716113],\n",
       "       [  5.1274387 ,   1.89964099],\n",
       "       [  4.92532409,   2.5409525 ],\n",
       "       [ -2.90082427,   8.85325537],\n",
       "       [ -2.27257881,   8.97787167],\n",
       "       [ -8.57949825,   6.96065101],\n",
       "       [ -2.46567409,   8.86478245],\n",
       "       [  5.36545064,   2.4528051 ],\n",
       "       [ -8.75289504,   7.23153125],\n",
       "       [  4.1764136 ,   1.94340701],\n",
       "       [ -7.89731551,   7.99623294],\n",
       "       [  4.28222698,   2.31296856],\n",
       "       [ -7.1234303 ,  -7.09638869],\n",
       "       [ -6.85536638,  -7.29558465],\n",
       "       [ -6.6291686 ,  -7.36888722],\n",
       "       [ -2.56702176,   8.86373428],\n",
       "       [  4.34519646,   2.39797073],\n",
       "       [ -6.73473976,  -5.84240919],\n",
       "       [  4.4039129 ,   2.51764498],\n",
       "       [ -8.67526125,   6.69796613],\n",
       "       [ -2.78138899,   9.06974742],\n",
       "       [  3.01924517,   1.46097586],\n",
       "       [ -2.60537811,   9.1650598 ],\n",
       "       [ -9.23356498,   7.55925709],\n",
       "       [ -6.67290974,  -5.94171169],\n",
       "       [ -2.46065885,   9.49860862],\n",
       "       [ -7.25780256,  -7.59123645],\n",
       "       [ -8.87554447,   7.63385896],\n",
       "       [ -8.71031289,   7.81486841],\n",
       "       [  5.27871128,   1.67738399],\n",
       "       [ -8.32374994,   7.55982166],\n",
       "       [ -9.5420836 ,   6.93461457],\n",
       "       [ -2.74878474,   8.92145664],\n",
       "       [ -6.52381975,  -7.44243064],\n",
       "       [  5.52260596,   2.17566054],\n",
       "       [  4.58260891,   2.59207784],\n",
       "       [ -3.31293924,   9.10660306],\n",
       "       [ -6.03605637,  -6.43928971],\n",
       "       [ -1.93778622,   9.39025264],\n",
       "       [ -9.61664234,   7.62652789],\n",
       "       [ -8.74040513,   6.83433653],\n",
       "       [ -6.64013728,  -6.71327854],\n",
       "       [  4.4148461 ,   2.28459465],\n",
       "       [  4.68871689,   1.58666479],\n",
       "       [ -2.02750956,   9.22067659],\n",
       "       [ -7.36208892,  -6.53708386],\n",
       "       [ -2.68055488,   8.61314749],\n",
       "       [  3.57793097,   1.71029217],\n",
       "       [ -2.77407772,   9.27091984],\n",
       "       [ -8.855822  ,   8.20892323],\n",
       "       [ -7.53186194,  -6.54527332],\n",
       "       [  5.05258701,   2.3799245 ],\n",
       "       [  4.95193874,   2.28734244],\n",
       "       [ -8.78363036,   7.68640623],\n",
       "       [  4.89740268,   3.89953543],\n",
       "       [ -2.64152604,  10.37437071],\n",
       "       [ -9.01881084,   7.90318782],\n",
       "       [  4.84634456,   1.69130741],\n",
       "       [ -6.35041495,  -7.75947934],\n",
       "       [  4.28065673,   1.86644611],\n",
       "       [ -8.37048856,   7.95930046],\n",
       "       [ -6.91096674,  -6.40253843],\n",
       "       [ -2.10243901,   8.39885397],\n",
       "       [ -2.10293471,   9.69240614],\n",
       "       [ -7.47125645,  -7.89972568],\n",
       "       [ -7.71432983,  -6.6084295 ],\n",
       "       [ -5.84925323,  -6.00243917],\n",
       "       [ -8.48284777,   7.54565457],\n",
       "       [ -2.95395484,   8.60638099],\n",
       "       [ -6.59109113,  -6.98163229],\n",
       "       [ -8.42674246,   7.3601819 ],\n",
       "       [  4.25346623,   1.85476038],\n",
       "       [ -8.87341061,   6.49304245],\n",
       "       [ -1.57631037,   9.25120259],\n",
       "       [ -9.20189634,   7.1997636 ],\n",
       "       [ -7.73131841,  -6.90788344],\n",
       "       [ -1.56610467,   9.10157503],\n",
       "       [ -2.37085222,   9.42787775],\n",
       "       [ -7.01715304,  -8.03107018],\n",
       "       [ -2.05149656,   9.17866168],\n",
       "       [ -8.59782314,   7.43546493],\n",
       "       [ -9.15073705,   7.33656844],\n",
       "       [ -7.00410927,  -6.39432412],\n",
       "       [  5.06870865,   1.89320042],\n",
       "       [ -8.95379502,   7.6716261 ],\n",
       "       [ -7.14487776,  -7.16801871],\n",
       "       [ -2.42260716,   9.20694482],\n",
       "       [ -7.10930764,  -7.30503178],\n",
       "       [  4.91342753,   1.87207336],\n",
       "       [ -2.48009326,   8.44280098],\n",
       "       [ -9.22522236,   6.70119556],\n",
       "       [ -5.89726462,  -6.86247782],\n",
       "       [  4.40240618,   1.64650507],\n",
       "       [ -9.10058789,   7.5682102 ],\n",
       "       [ -7.91384971,   7.88680543],\n",
       "       [ -7.01433061,  -6.52133847],\n",
       "       [ -6.93579122,  -6.99059439],\n",
       "       [ -2.50269668,   9.74105317],\n",
       "       [ -6.2899786 ,  -6.84635035],\n",
       "       [  4.3089856 ,   2.39938635],\n",
       "       [ -3.21688299,   8.80396347],\n",
       "       [ -7.89868946,  -7.38415275],\n",
       "       [ -7.61892031,  -6.30823257],\n",
       "       [ -6.57254384,  -6.50135574],\n",
       "       [  5.01352564,   2.27835482],\n",
       "       [ -7.41343741,  -6.95129934],\n",
       "       [  4.53581771,   1.72666922],\n",
       "       [ -2.99653846,   9.40782843],\n",
       "       [ -2.40215075,   8.39141674],\n",
       "       [ -8.37631425,   7.23107185],\n",
       "       [  4.73940868,   1.67306125],\n",
       "       [  4.86178855,   2.36048671],\n",
       "       [ -8.73928538,   7.25134271],\n",
       "       [ -8.54177713,   7.1687497 ],\n",
       "       [ -7.55828549,   7.27549297],\n",
       "       [  4.58549876,   2.17402554],\n",
       "       [ -9.1107873 ,   7.52309097],\n",
       "       [ -2.86022417,   8.85045505],\n",
       "       [ -7.20554525,  -6.85641026],\n",
       "       [  4.41985659,   2.03853997],\n",
       "       [ -8.51114493,   7.29573058],\n",
       "       [ -3.12767298,   8.35405782],\n",
       "       [ -8.74947726,   6.65585074],\n",
       "       [ -6.91266709,  -7.48561769],\n",
       "       [ -7.13656065,  -7.40971635],\n",
       "       [  4.14912451,   2.20422142],\n",
       "       [ -8.11544944,  -7.27855722],\n",
       "       [ -1.77637324,   8.90139798],\n",
       "       [ -3.46858323,   9.00102919],\n",
       "       [ -2.7324551 ,   9.44248553],\n",
       "       [ -6.71347019,  -7.25435286],\n",
       "       [ -9.19475065,   7.37673803],\n",
       "       [ -7.22948995,  -6.77311964],\n",
       "       [ -9.02013386,   7.2950501 ],\n",
       "       [ -2.13996433,   9.09997027],\n",
       "       [ -6.78869406,  -6.7559993 ],\n",
       "       [ -2.84765862,   9.32012427],\n",
       "       [ -6.4649244 ,  -7.98567725],\n",
       "       [ -3.04034948,   9.25108234],\n",
       "       [ -7.20494848,  -7.12367229],\n",
       "       [ -7.81502315,  -7.05586634],\n",
       "       [  4.79533262,   2.71084779],\n",
       "       [ -1.71959122,   9.39800349],\n",
       "       [ -8.79026737,   7.09238527],\n",
       "       [ -6.56033096,  -7.71086962],\n",
       "       [ -3.01561318,   9.17140979],\n",
       "       [ -8.64822883,   7.62881579],\n",
       "       [  4.89739647,   2.23006266],\n",
       "       [ -9.34437994,   6.49609458],\n",
       "       [ -2.73951701,   9.54284724],\n",
       "       [ -6.7161635 ,  -6.98965986],\n",
       "       [  5.27333441,   1.61933495],\n",
       "       [ -6.71082586,  -7.08604808],\n",
       "       [ -2.34356591,   9.50205869],\n",
       "       [  4.26031251,   2.04836658],\n",
       "       [ -2.54774848,   9.18486212],\n",
       "       [  4.51359476,   1.34927809],\n",
       "       [ -2.32837961,   8.69172625],\n",
       "       [  3.62730754,   2.06639684],\n",
       "       [ -2.36266139,   8.65711042],\n",
       "       [  4.80196201,   1.90809816],\n",
       "       [ -8.82416857,   7.33840099],\n",
       "       [  4.89237248,   2.40604728],\n",
       "       [ -8.62351865,   7.42736676],\n",
       "       [ -7.144756  ,  -7.27654601],\n",
       "       [ -9.26750665,   7.67367786],\n",
       "       [ -8.52212389,   7.80980014],\n",
       "       [ -8.42136668,   7.55311296],\n",
       "       [ -8.85810533,   7.66427326],\n",
       "       [ -2.92880638,   8.85967994],\n",
       "       [ -6.84094304,  -7.31075169],\n",
       "       [ -6.94358599,  -7.35787981],\n",
       "       [ -7.64668428,  -6.24127118],\n",
       "       [  4.67201885,   1.43429729],\n",
       "       [  5.22146071,   1.97828621],\n",
       "       [ -2.32849982,   9.78330441],\n",
       "       [  5.43288724,   1.35426193],\n",
       "       [ -8.00559053,   7.83070795],\n",
       "       [ -6.41653842,  -5.92540127],\n",
       "       [  3.88019385,   1.73105265],\n",
       "       [  4.98495083,   1.77255945],\n",
       "       [  4.67778112,   1.63458883],\n",
       "       [ -6.46445928,  -7.30815151],\n",
       "       [  4.63037073,   1.471905  ],\n",
       "       [ -2.51594624,   8.48543066],\n",
       "       [ -2.58984048,   9.21631156],\n",
       "       [ -6.44482423,  -6.20229066],\n",
       "       [ -6.81947938,  -6.62289018],\n",
       "       [  4.24361847,   1.91580146],\n",
       "       [ -9.37885603,   7.85009934],\n",
       "       [ -8.55843253,   7.86391328],\n",
       "       [  4.62942804,   2.03183338],\n",
       "       [ -6.870418  ,  -6.04189094],\n",
       "       [ -7.91334824,  -6.92466961],\n",
       "       [ -8.91733171,   7.11008238],\n",
       "       [ -7.10177382,  -6.69145935],\n",
       "       [ -9.3130272 ,   8.63971395],\n",
       "       [ -8.85470439,   7.05181053],\n",
       "       [  3.78331157,   2.65010587],\n",
       "       [ -2.33738848,   8.13276605],\n",
       "       [ -6.68240112,  -7.09060183],\n",
       "       [ -1.92989983,   8.60394497],\n",
       "       [ -2.21576908,  10.10951394],\n",
       "       [  4.98085532,   1.81803631],\n",
       "       [ -9.12515876,   7.05009344],\n",
       "       [ -2.84920998,   9.13041298],\n",
       "       [ -9.00967155,   7.13780248],\n",
       "       [ -7.39825027,  -6.97527893],\n",
       "       [ -2.37925623,   9.40519756],\n",
       "       [  4.63375545,   1.5245425 ],\n",
       "       [  4.98300893,   1.16681175],\n",
       "       [ -2.19636395,   8.58570735],\n",
       "       [  5.11509076,   1.68471786],\n",
       "       [ -7.57891098,  -6.59862497],\n",
       "       [ -7.01456466,  -7.36949145],\n",
       "       [  5.11687972,   2.29886531],\n",
       "       [ -3.17329065,   9.11271675],\n",
       "       [  4.27469552,   2.08139898],\n",
       "       [ -6.27902023,  -7.08414728],\n",
       "       [ -2.36113748,   9.14481376],\n",
       "       [ -2.81005093,   9.94042522],\n",
       "       [  3.97976223,   2.88889907],\n",
       "       [ -7.63722272,  -6.19667246],\n",
       "       [ -2.80951697,   8.86843925],\n",
       "       [ -6.69632807,  -7.35004949],\n",
       "       [ -3.10484937,   9.34256293],\n",
       "       [ -6.1040512 ,  -6.82227228],\n",
       "       [ -2.74393482,   9.28556615],\n",
       "       [ -6.74439878,  -6.90522865],\n",
       "       [ -2.63189168,   8.63741805],\n",
       "       [  4.23076849,   3.01936332],\n",
       "       [ -9.29994438,   6.64768061],\n",
       "       [ -8.78121393,   7.3986738 ],\n",
       "       [ -7.16801286,  -6.50241398],\n",
       "       [ -7.55164786,   7.35313213],\n",
       "       [ -8.82911079,   7.49731377],\n",
       "       [  4.69663751,   2.30423502],\n",
       "       [ -6.99910121,  -7.33389142],\n",
       "       [ -2.34715564,   8.82174499],\n",
       "       [ -2.54520268,   9.51605258],\n",
       "       [ -8.83136311,   7.31146037],\n",
       "       [ -2.11368165,   8.5595924 ],\n",
       "       [ -6.82996104,  -6.50441603],\n",
       "       [ -6.05714333,  -7.00462761],\n",
       "       [  5.36051548,   1.25523861],\n",
       "       [ -2.96320966,   8.30813428],\n",
       "       [  4.22001792,   1.67347336],\n",
       "       [  4.22713024,   1.81247676],\n",
       "       [  5.29261824,   1.9836716 ],\n",
       "       [  4.81075682,   2.9112551 ],\n",
       "       [ -3.19803231,   8.54537361],\n",
       "       [ -6.71037899,  -7.08775355],\n",
       "       [  4.75192508,   1.97946588],\n",
       "       [ -6.50113288,  -7.34119226],\n",
       "       [ -2.7052517 ,   8.28252865],\n",
       "       [  4.76236212,   1.7196981 ],\n",
       "       [-10.16381266,   7.86927634],\n",
       "       [ -8.96581637,   8.07551941],\n",
       "       [ -2.93259448,   8.25686252],\n",
       "       [  4.22876864,   2.09501329],\n",
       "       [  5.0463099 ,   2.2879841 ],\n",
       "       [ -8.69834344,   6.76077839],\n",
       "       [ -8.95849046,   7.13611251],\n",
       "       [ -5.34018679,  -6.32032214],\n",
       "       [ -6.46178114,  -7.44496302],\n",
       "       [ -6.8363323 ,  -6.95794821],\n",
       "       [ -2.52655351,   8.42994711],\n",
       "       [  5.07603915,   2.06484069],\n",
       "       [  5.71185088,   2.2901292 ],\n",
       "       [ -7.37249021,  -6.62808634],\n",
       "       [ -6.76181991,  -6.494677  ],\n",
       "       [  4.66266476,   1.64736951],\n",
       "       [ -2.09816754,   9.96268262],\n",
       "       [ -6.44406484,  -7.04312136],\n",
       "       [ -2.46331723,   8.02050167],\n",
       "       [ -2.62092902,   9.37128638],\n",
       "       [  4.63062227,   1.82884036],\n",
       "       [ -8.26369109,   6.9719347 ],\n",
       "       [ -2.61903357,   9.19284241],\n",
       "       [  5.70095693,   2.48940231],\n",
       "       [ -6.56323626,  -5.74476316],\n",
       "       [ -9.48330821,   6.67598353],\n",
       "       [ -1.99369786,   9.47992619],\n",
       "       [ -2.91344442,   8.76340761],\n",
       "       [ -8.8104653 ,   7.87061867],\n",
       "       [ -8.52742278,   6.53841056],\n",
       "       [ -8.85714511,   7.87517386],\n",
       "       [  5.2295989 ,   1.73858186],\n",
       "       [  4.67477988,   1.78051289],\n",
       "       [ -8.74494437,   6.94583145],\n",
       "       [  4.00943686,   2.43210066],\n",
       "       [  4.48224421,   2.35265429],\n",
       "       [ -6.37648079,  -7.16855553],\n",
       "       [ -9.05557587,   7.16893685],\n",
       "       [ -2.39546766,   9.66785751],\n",
       "       [ -3.04464387,   9.25552234],\n",
       "       [  4.03973063,   1.80591907],\n",
       "       [ -9.12614667,   7.38452782],\n",
       "       [ -9.32626438,   7.85034381],\n",
       "       [  4.13687015,   1.36607538],\n",
       "       [ -8.68442687,   6.46843872],\n",
       "       [ -6.06531942,  -7.57016032],\n",
       "       [  4.81838658,   1.62671489],\n",
       "       [ -8.47749172,   6.75899703],\n",
       "       [  4.89955209,   2.73953914],\n",
       "       [ -9.09968927,   7.84802753],\n",
       "       [-10.18677108,   7.29637548],\n",
       "       [ -3.24845862,   8.65436402],\n",
       "       [ -1.967672  ,   9.54118715],\n",
       "       [ -2.47543352,   8.30191204],\n",
       "       [ -9.1082076 ,   6.93437055],\n",
       "       [ -6.12844867,  -6.8430622 ],\n",
       "       [ -2.50664089,   8.89699256],\n",
       "       [ -2.47908252,  10.24590718],\n",
       "       [ -7.69339841,  -6.85606712],\n",
       "       [ -3.37165654,   8.73314236],\n",
       "       [ -6.74976594,  -7.33226791],\n",
       "       [ -7.21093907,  -6.59481026],\n",
       "       [ -7.20291363,  -7.4208836 ],\n",
       "       [ -6.68759447,  -6.89645697],\n",
       "       [ -9.68456007,   8.08829808],\n",
       "       [ -9.39361568,   8.19965814],\n",
       "       [  4.39719706,   2.01410675],\n",
       "       [ -6.88361351,  -6.14013752],\n",
       "       [ -8.04173444,   7.06791508],\n",
       "       [ -3.28452934,   9.04856762],\n",
       "       [  4.22538133,   1.69307916],\n",
       "       [ -2.24822684,   9.16277846],\n",
       "       [ -1.80780047,   8.3133606 ],\n",
       "       [ -7.26125677,  -7.78255064],\n",
       "       [ -2.38042243,   8.97706317],\n",
       "       [  4.64250069,   1.99665998],\n",
       "       [ -9.87929246,   8.1717511 ],\n",
       "       [ -6.93314237,  -7.39773075],\n",
       "       [ -8.21528516,   6.2868278 ],\n",
       "       [ -2.45937194,   8.7625483 ],\n",
       "       [ -3.08469441,   9.20213514],\n",
       "       [ -9.14408666,   6.62019237],\n",
       "       [ -8.96812343,   6.57195144],\n",
       "       [ -6.36085722,  -7.13511779],\n",
       "       [  3.84266501,   1.67348217],\n",
       "       [ -3.00446579,   8.73113726],\n",
       "       [ -8.73281902,   7.27516636],\n",
       "       [  5.7347803 ,   1.56902054],\n",
       "       [  5.70639552,   0.99712578],\n",
       "       [ -9.37885942,   7.63149072],\n",
       "       [ -7.61545177,   7.38813351],\n",
       "       [ -2.3839512 ,   9.18751023],\n",
       "       [  4.1906715 ,   2.21912927],\n",
       "       [  4.53103823,   2.52255811],\n",
       "       [ -8.36918585,   7.06550055],\n",
       "       [  5.08967877,   2.12681944],\n",
       "       [ -8.9727721 ,   6.77025996],\n",
       "       [  4.68837682,   2.2707482 ],\n",
       "       [  4.78037477,   1.66181992],\n",
       "       [ -2.74090647,   8.78142125],\n",
       "       [  4.80123812,   1.55955421],\n",
       "       [ -2.96890974,   9.78925333],\n",
       "       [ -9.44939166,   7.68002213],\n",
       "       [ -9.51242047,   7.69515496],\n",
       "       [ -7.30983387,  -7.07238737],\n",
       "       [ -7.68285035,  -6.77837778],\n",
       "       [ -9.75876487,   6.68373443],\n",
       "       [ -6.69405425,  -7.18210219],\n",
       "       [  5.71647006,   1.5894959 ],\n",
       "       [ -6.59134871,  -6.72448452],\n",
       "       [ -6.11806515,  -6.61065457],\n",
       "       [ -9.00622011,   8.15803368],\n",
       "       [ -3.06236511,   8.41618282],\n",
       "       [ -9.72768788,   8.07154507],\n",
       "       [ -8.70253834,   6.68514863],\n",
       "       [ -8.48445179,   7.04228953],\n",
       "       [ -2.95112634,   9.09114868],\n",
       "       [ -6.29573616,  -6.75289917],\n",
       "       [  4.56398629,   2.26732829],\n",
       "       [ -6.6147251 ,  -6.15932528],\n",
       "       [ -7.31743632,  -7.57150946],\n",
       "       [ -7.17582415,  -7.31210498],\n",
       "       [ -2.52711064,   9.79660796],\n",
       "       [  4.40435968,   2.08919465],\n",
       "       [ -7.15645184,  -7.47904854],\n",
       "       [ -9.33313017,   7.26062946],\n",
       "       [ -9.15181129,   8.22974719],\n",
       "       [  5.79720812,   1.03953709],\n",
       "       [ -2.40476583,   8.03445107],\n",
       "       [  5.21893427,   2.36900103],\n",
       "       [ -6.55693922,  -6.19579381],\n",
       "       [ -9.1904996 ,   6.61929227],\n",
       "       [ -2.38821649,   8.05764601],\n",
       "       [ -8.59166881,   7.41594098],\n",
       "       [ -2.09792517,   8.4038643 ],\n",
       "       [ -1.7702506 ,   8.75515102],\n",
       "       [ -8.63420138,   6.47223111],\n",
       "       [  4.65213392,   2.22216883],\n",
       "       [  3.91583667,   1.2694378 ],\n",
       "       [ -6.84384407,  -7.11893832],\n",
       "       [  5.45608449,   1.25809899],\n",
       "       [ -2.33030394,   9.29467839]])"
      ]
     },
     "execution_count": 5,
     "metadata": {},
     "output_type": "execute_result"
    }
   ],
   "source": [
    "X1"
   ]
  },
  {
   "cell_type": "code",
   "execution_count": 6,
   "id": "a1a4e79f",
   "metadata": {},
   "outputs": [
    {
     "data": {
      "text/plain": [
       "(-10.991164938567119, 6.601601980025178, -8.95934099075616, 11.302641526605552)"
      ]
     },
     "execution_count": 6,
     "metadata": {},
     "output_type": "execute_result"
    },
    {
     "data": {
      "image/png": "[encoded data removed]",
      "text/plain": [
       "<Figure size 432x288 with 1 Axes>"
      ]
     },
     "metadata": {
      "needs_background": "light"
     },
     "output_type": "display_data"
    }
   ],
   "source": [
    "X = X1\n",
    "plt.scatter(X[: ,0], X[: ,1], s=10)\n",
    "plt.axis(\"equal\")"
   ]
  },
  {
   "cell_type": "code",
   "execution_count": 35,
   "id": "cbac7eb3",
   "metadata": {},
   "outputs": [],
   "source": [
    "\n",
    "kmeans = KMeans(n_clusters=4)"
   ]
  },
  {
   "cell_type": "code",
   "execution_count": 36,
   "id": "bdb22251",
   "metadata": {},
   "outputs": [
    {
     "data": {
      "text/plain": [
       "array([0, 3, 0, 1, 1, 3, 3, 0, 3, 1, 0, 1, 0, 1, 2, 2, 2, 3, 1, 2, 1, 0,\n",
       "       3, 1, 3, 0, 2, 3, 2, 0, 0, 1, 0, 0, 3, 2, 1, 1, 3, 2, 3, 0, 0, 2,\n",
       "       1, 1, 3, 2, 3, 1, 3, 0, 2, 1, 1, 0, 1, 3, 0, 1, 2, 1, 0, 2, 3, 3,\n",
       "       2, 2, 2, 0, 3, 2, 0, 1, 0, 3, 0, 2, 3, 3, 2, 3, 0, 0, 2, 1, 0, 2,\n",
       "       3, 2, 1, 3, 0, 2, 1, 0, 0, 2, 2, 3, 2, 1, 3, 2, 2, 2, 1, 2, 1, 3,\n",
       "       3, 0, 1, 1, 0, 0, 0, 1, 0, 3, 2, 1, 0, 3, 0, 2, 2, 1, 2, 3, 3, 3,\n",
       "       2, 0, 2, 0, 3, 2, 3, 2, 3, 2, 2, 1, 3, 0, 2, 3, 0, 1, 0, 3, 2, 1,\n",
       "       2, 3, 1, 3, 1, 3, 1, 3, 1, 0, 1, 0, 2, 0, 0, 0, 0, 3, 2, 2, 2, 1,\n",
       "       1, 3, 1, 0, 2, 1, 1, 1, 2, 1, 3, 3, 2, 2, 1, 0, 0, 1, 2, 2, 0, 2,\n",
       "       0, 0, 1, 3, 2, 3, 3, 1, 0, 3, 0, 2, 3, 1, 1, 3, 1, 2, 2, 1, 3, 1,\n",
       "       2, 3, 3, 1, 2, 3, 2, 3, 2, 3, 2, 3, 1, 0, 0, 2, 0, 0, 1, 2, 3, 3,\n",
       "       0, 3, 2, 2, 1, 3, 1, 1, 1, 1, 3, 2, 1, 2, 3, 1, 0, 0, 3, 1, 1, 0,\n",
       "       0, 2, 2, 2, 3, 1, 1, 2, 2, 1, 3, 2, 3, 3, 1, 0, 3, 1, 2, 0, 3, 3,\n",
       "       0, 0, 0, 1, 1, 0, 1, 1, 2, 0, 3, 3, 1, 0, 0, 1, 0, 2, 1, 0, 1, 0,\n",
       "       0, 3, 3, 3, 0, 2, 3, 3, 2, 3, 2, 2, 2, 2, 0, 0, 1, 2, 0, 3, 1, 3,\n",
       "       3, 2, 3, 1, 0, 2, 0, 3, 3, 0, 0, 2, 1, 3, 0, 1, 1, 0, 0, 3, 1, 1,\n",
       "       0, 1, 0, 1, 1, 3, 1, 3, 0, 0, 2, 2, 0, 2, 1, 2, 2, 0, 3, 0, 0, 0,\n",
       "       3, 2, 1, 2, 2, 2, 3, 1, 2, 0, 0, 1, 3, 1, 2, 0, 3, 0, 3, 3, 0, 1,\n",
       "       1, 2, 1, 3])"
      ]
     },
     "execution_count": 36,
     "metadata": {},
     "output_type": "execute_result"
    }
   ],
   "source": [
    "X=X1\n",
    "cluster =kmeans.fit_predict(X)\n",
    "cluster"
   ]
  },
  {
   "cell_type": "code",
   "execution_count": 37,
   "id": "c9b6cdf2",
   "metadata": {},
   "outputs": [
    {
     "data": {
      "text/plain": [
       "array([[-8.8837694 ,  7.3527418 ],\n",
       "       [ 4.69349111,  1.99188198],\n",
       "       [-6.88174949, -6.93204687],\n",
       "       [-2.57121515,  9.02892796]])"
      ]
     },
     "execution_count": 37,
     "metadata": {},
     "output_type": "execute_result"
    }
   ],
   "source": [
    "centroid =kmeans.cluster_centers_\n",
    "centroid"
   ]
  },
  {
   "cell_type": "code",
   "execution_count": 38,
   "id": "551ff91d",
   "metadata": {
    "scrolled": true
   },
   "outputs": [
    {
     "data": {
      "text/plain": [
       "(-10.989086978336424,\n",
       " 6.599524019794482,\n",
       " -8.957741236605044,\n",
       " 11.301041772454434)"
      ]
     },
     "execution_count": 38,
     "metadata": {},
     "output_type": "execute_result"
    },
    {
     "data": {
      "image/png": "[encoded data removed]",
      "text/plain": [
       "<Figure size 720x360 with 1 Axes>"
      ]
     },
     "metadata": {
      "needs_background": "light"
     },
     "output_type": "display_data"
    }
   ],
   "source": [
    "plt.figure(figsize=[10,5])\n",
    "plt.scatter(X[: ,0], X[: ,1],c= cluster, s=10)\n",
    "plt.scatter(centroid[ : ,0],centroid[ : ,1],edgecolors=\"k\")\n",
    "plt.axis(\"equal\")"
   ]
  },
  {
   "cell_type": "markdown",
   "id": "b401b986",
   "metadata": {},
   "source": [
    "# K-means kelemahannya\n",
    "\n",
    "- sulit dalam menentukan jumlah K\n",
    "    * solusi nya elbow analysis, silhouette score,dll\n",
    "- hanya untuk data yang bisa dirata ratakan (data numerik, data categoric kurang cocok)\n",
    "    * solusi K-modes (untuk data categoric)\n",
    "    * sulusi K-medoid (bisa digunakan untuk mix data antara categoric maupun numerik)\n",
    "- solusi tidak selalu optimal (tebakan awal pada penentuan lokasi centroid kurang tepat akan menumbulkan kesalahan menentukan cluster)\n",
    "- hanya untuk data yang linearly-separable (data yang kepisah)\n",
    "\n",
    "#### Unsupervised Learning gak ada istilah terbaik karna kita gak ada (tidak memanfaatkan label atau target nya) jawaban benarnya, maka nya karna gak ada jawaban nya, kita gak pernah tau model kita itu terbaik apa bukan. \n",
    "\n",
    "* jadi nya agak subjektif, ya tergantung personal judge itu udah lumayan atau belum"
   ]
  },
  {
   "cell_type": "markdown",
   "id": "45711702",
   "metadata": {},
   "source": [
    "### Contoh: moon dataset\n",
    "* K-means gak bisa ke data yang non linear, karna dia membagi sama rata"
   ]
  },
  {
   "cell_type": "code",
   "execution_count": 39,
   "id": "36c74914",
   "metadata": {
    "scrolled": true
   },
   "outputs": [
    {
     "data": {
      "text/plain": [
       "(-1.3203140401460856,\n",
       " 2.3381570869523793,\n",
       " -0.8039849141184544,\n",
       " 1.2352784549644016)"
      ]
     },
     "execution_count": 39,
     "metadata": {},
     "output_type": "execute_result"
    },
    {
     "data": {
      "image/png": "[encoded data removed]",
      "text/plain": [
       "<Figure size 720x360 with 1 Axes>"
      ]
     },
     "metadata": {
      "needs_background": "light"
     },
     "output_type": "display_data"
    }
   ],
   "source": [
    "X=X2\n",
    "kmeans = KMeans(n_clusters=2)\n",
    "cluster =kmeans.fit_predict(X)\n",
    "centroid =kmeans.cluster_centers_\n",
    "plt.figure(figsize=[10,5])\n",
    "plt.scatter(X[: ,0], X[: ,1],c=cluster, s=10)\n",
    "plt.scatter(centroid[ : ,0],centroid[ : ,1],c=\"w\",edgecolors=\"k\")\n",
    "plt.axis(\"equal\")"
   ]
  },
  {
   "cell_type": "markdown",
   "id": "828c5722",
   "metadata": {},
   "source": [
    "### Contoh: donuts dataset\n",
    "* K-means gak bisa ke data yang non linear, karna dia membagi sama rata\n",
    "    * solusi nya = gunain Algoritma lain (ex:DBSCAN) hehehe"
   ]
  },
  {
   "cell_type": "code",
   "execution_count": 42,
   "id": "b384d2e5",
   "metadata": {},
   "outputs": [
    {
     "data": {
      "text/plain": [
       "(-1.309109168384407,\n",
       " 1.4325887700036757,\n",
       " -1.2441091738065049,\n",
       " 1.2959229870784046)"
      ]
     },
     "execution_count": 42,
     "metadata": {},
     "output_type": "execute_result"
    },
    {
     "data": {
      "image/png": "[encoded data removed]",
      "text/plain": [
       "<Figure size 720x360 with 1 Axes>"
      ]
     },
     "metadata": {
      "needs_background": "light"
     },
     "output_type": "display_data"
    }
   ],
   "source": [
    "X=X3\n",
    "kmeans = KMeans(n_clusters=3)\n",
    "cluster =kmeans.fit_predict(X)\n",
    "centroid =kmeans.cluster_centers_\n",
    "plt.figure(figsize=[10,5])\n",
    "plt.scatter(X[: ,0], X[: ,1],c=cluster, s=10)\n",
    "plt.scatter(centroid[ : ,0],centroid[ : ,1],c=\"w\",edgecolors=\"k\")\n",
    "plt.axis(\"equal\")"
   ]
  },
  {
   "cell_type": "markdown",
   "id": "8819029c",
   "metadata": {},
   "source": []
  },
  {
   "cell_type": "markdown",
   "id": "b163d6bd",
   "metadata": {},
   "source": [
    "- sulit dalam menentukan jumlah K\n",
    "    * solusi nya elbow analysis, silhouette score,dll\n",
    "# Menentukan K(n-cluster) ~> Inertia/Elbow Analysis"
   ]
  },
  {
   "cell_type": "markdown",
   "id": "d54fd322",
   "metadata": {},
   "source": [
    "cara nya mirip seperti dulu menentukan jumlah tetangga pada algoritma knn, kita lakukan perulangan pada range yang ditentukan trus kita masukin deh nilai iterasi nya kedalam n_clusters = i, untuk dilakukan hasil predict. dan tiap kali ada hasil nya kita tampung atau kita hitung (kmeans.inertia_) tampung di list kosong untuk di plot agar bisa dianalisis"
   ]
  },
  {
   "cell_type": "code",
   "execution_count": 44,
   "id": "2dc28166",
   "metadata": {},
   "outputs": [
    {
     "data": {
      "text/plain": [
       "Text(0, 0.5, 'inertiad')"
      ]
     },
     "execution_count": 44,
     "metadata": {},
     "output_type": "execute_result"
    },
    {
     "data": {
      "image/png": "[encoded data removed]",
      "text/plain": [
       "<Figure size 720x360 with 1 Axes>"
      ]
     },
     "metadata": {
      "needs_background": "light"
     },
     "output_type": "display_data"
    }
   ],
   "source": [
    "X=X1\n",
    "score=[]\n",
    "for i in range(1,25):\n",
    "    kmeans= KMeans(n_clusters=i)\n",
    "    kmeans.fit_predict(X)\n",
    "    score.append(kmeans.inertia_)\n",
    "\n",
    "plt.figure(figsize=[10,5])\n",
    "plt.plot(score, \"r-\")\n",
    "plt.xlabel(\"n_cluster\")\n",
    "plt.ylabel(\"inertia\")"
   ]
  },
  {
   "cell_type": "markdown",
   "id": "c39899e2",
   "metadata": {},
   "source": [
    "cara baca nya, hiraukan value dari inertia nya, \"lihat aja dari grafiknya dimana grafik menunjukkan penurunan inertia nya seperti siku atau elbow (melemahnya penurunan nilai)\" . ini kembali lagi subjektif, karna kalau grafik nya smooth, terserah kita mau nentuin elbow nya dimana.\n",
    "* terlihat digambar bahwa sekitaran angka 4 terjadi pembantukan elbow, maka nya kita bisa gunakan 4 sebagai K (n_cluster) kita. dan juga sesuai dengan plot awal kita tadi bahwa ada 4 cluster pada data X1 (bloob dataset) kita tadi"
   ]
  },
  {
   "cell_type": "markdown",
   "id": "59e7ba3b",
   "metadata": {},
   "source": [
    "ide dibalik layar itu, dalam menentukan cluster kan kita ada centroid yang terletak deketan di cluster itu, nah dari konsep ini kalau diteliti bahwa cluster yang baik adalah jarak antara centroid dengan data data di cluster itu tidak jauh. dan ide lain jarak antar centroid lain itu tidak berdekatan.\n",
    "* kembali lagi orang matematika yang menjabarkan semua ide itu"
   ]
  },
  {
   "cell_type": "markdown",
   "id": "f6acfc5f",
   "metadata": {},
   "source": [
    "# Menentukan K(n-cluster) yang menggunakan label ~> Silhoutte"
   ]
  }
 ],
 "metadata": {
  "kernelspec": {
   "display_name": "Python [conda env:jcop]",
   "language": "python",
   "name": "conda-env-jcop-py"
  },
  "language_info": {
   "codemirror_mode": {
    "name": "ipython",
    "version": 3
   },
   "file_extension": ".py",
   "mimetype": "text/x-python",
   "name": "python",
   "nbconvert_exporter": "python",
   "pygments_lexer": "ipython3",
   "version": "3.7.6"
  }
 },
 "nbformat": 4,
 "nbformat_minor": 5
}
